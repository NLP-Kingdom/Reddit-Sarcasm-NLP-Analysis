{
 "cells": [
  {
   "cell_type": "markdown",
   "source": [
    "# Libraries"
   ],
   "metadata": {
    "collapsed": false
   },
   "id": "5fff723636c6538b"
  },
  {
   "cell_type": "code",
   "execution_count": 23,
   "id": "initial_id",
   "metadata": {
    "collapsed": true,
    "ExecuteTime": {
     "end_time": "2024-03-04T22:36:20.653418700Z",
     "start_time": "2024-03-04T22:35:59.572329600Z"
    }
   },
   "outputs": [
    {
     "name": "stderr",
     "output_type": "stream",
     "text": [
      "[nltk_data] Downloading package omw-1.4 to\n",
      "[nltk_data]     C:\\Users\\16920\\AppData\\Roaming\\nltk_data...\n",
      "[nltk_data] Downloading package wordnet to\n",
      "[nltk_data]     C:\\Users\\16920\\AppData\\Roaming\\nltk_data...\n",
      "[nltk_data]   Package wordnet is already up-to-date!\n"
     ]
    },
    {
     "data": {
      "text/plain": "True"
     },
     "execution_count": 23,
     "metadata": {},
     "output_type": "execute_result"
    }
   ],
   "source": [
    "import pandas as pd\n",
    "\n",
    "from sklearn.feature_extraction.text import TfidfVectorizer\n",
    "import matplotlib.pyplot as plt\n",
    "\n",
    "from sklearn.model_selection import KFold\n",
    "from sklearn.linear_model import LogisticRegression\n",
    "from sklearn.metrics import recall_score, precision_score, f1_score, mean_squared_error, make_scorer,accuracy_score\n",
    "from sklearn.ensemble import RandomForestClassifier\n",
    "from sklearn.model_selection import GridSearchCV, train_test_split\n",
    "\n",
    "import nltk\n",
    "from nltk.corpus import stopwords\n",
    "from sklearn.ensemble import AdaBoostClassifier\n",
    "from sklearn.tree import DecisionTreeClassifier\n",
    "\n",
    "from sklearn.feature_extraction.text import ENGLISH_STOP_WORDS\n",
    "from collections import Counter\n",
    "import re\n",
    "\n",
    "from nltk import WordNetLemmatizer\n",
    "\n",
    "import pandas as pd\n",
    "import nltk\n",
    "from nltk.stem import WordNetLemmatizer\n",
    "from nltk.corpus import wordnet\n",
    "import nltk\n",
    "nltk.download('omw-1.4')\n",
    "nltk.download('wordnet')\n",
    "\n",
    "\n"
   ]
  },
  {
   "cell_type": "markdown",
   "source": [
    "# Read Dataset"
   ],
   "metadata": {
    "collapsed": false
   },
   "id": "dd0b48a29161760d"
  },
  {
   "cell_type": "code",
   "execution_count": 24,
   "outputs": [
    {
     "data": {
      "text/plain": "   label                                            comment     author  \\\n0      0                                         NC and NH.  Trumpbart   \n1      0  You do know west teams play against west teams...  Shbshb906   \n2      0  They were underdogs earlier today, but since G...   Creepeth   \n3      0  This meme isn't funny none of the \"new york ni...  icebrotha   \n4      0                    I could use one of those tools.  cush2push   \n\n            subreddit  score  ups  downs     date          created_utc  \\\n0            politics      2   -1     -1  2016-10  2016-10-16 23:55:23   \n1                 nba     -4   -1     -1  2016-11  2016-11-01 00:24:10   \n2                 nfl      3    3      0  2016-09  2016-09-22 21:45:37   \n3  BlackPeopleTwitter     -8   -1     -1  2016-10  2016-10-18 21:03:47   \n4  MaddenUltimateTeam      6   -1     -1  2016-12  2016-12-30 17:00:13   \n\n                                      parent_comment  \n0  Yeah, I get that argument. At this point, I'd ...  \n1  The blazers and Mavericks (The wests 5 and 6 s...  \n2                            They're favored to win.  \n3                         deadass don't kill my buzz  \n4  Yep can confirm I saw the tool they use for th...  ",
      "text/html": "<div>\n<style scoped>\n    .dataframe tbody tr th:only-of-type {\n        vertical-align: middle;\n    }\n\n    .dataframe tbody tr th {\n        vertical-align: top;\n    }\n\n    .dataframe thead th {\n        text-align: right;\n    }\n</style>\n<table border=\"1\" class=\"dataframe\">\n  <thead>\n    <tr style=\"text-align: right;\">\n      <th></th>\n      <th>label</th>\n      <th>comment</th>\n      <th>author</th>\n      <th>subreddit</th>\n      <th>score</th>\n      <th>ups</th>\n      <th>downs</th>\n      <th>date</th>\n      <th>created_utc</th>\n      <th>parent_comment</th>\n    </tr>\n  </thead>\n  <tbody>\n    <tr>\n      <th>0</th>\n      <td>0</td>\n      <td>NC and NH.</td>\n      <td>Trumpbart</td>\n      <td>politics</td>\n      <td>2</td>\n      <td>-1</td>\n      <td>-1</td>\n      <td>2016-10</td>\n      <td>2016-10-16 23:55:23</td>\n      <td>Yeah, I get that argument. At this point, I'd ...</td>\n    </tr>\n    <tr>\n      <th>1</th>\n      <td>0</td>\n      <td>You do know west teams play against west teams...</td>\n      <td>Shbshb906</td>\n      <td>nba</td>\n      <td>-4</td>\n      <td>-1</td>\n      <td>-1</td>\n      <td>2016-11</td>\n      <td>2016-11-01 00:24:10</td>\n      <td>The blazers and Mavericks (The wests 5 and 6 s...</td>\n    </tr>\n    <tr>\n      <th>2</th>\n      <td>0</td>\n      <td>They were underdogs earlier today, but since G...</td>\n      <td>Creepeth</td>\n      <td>nfl</td>\n      <td>3</td>\n      <td>3</td>\n      <td>0</td>\n      <td>2016-09</td>\n      <td>2016-09-22 21:45:37</td>\n      <td>They're favored to win.</td>\n    </tr>\n    <tr>\n      <th>3</th>\n      <td>0</td>\n      <td>This meme isn't funny none of the \"new york ni...</td>\n      <td>icebrotha</td>\n      <td>BlackPeopleTwitter</td>\n      <td>-8</td>\n      <td>-1</td>\n      <td>-1</td>\n      <td>2016-10</td>\n      <td>2016-10-18 21:03:47</td>\n      <td>deadass don't kill my buzz</td>\n    </tr>\n    <tr>\n      <th>4</th>\n      <td>0</td>\n      <td>I could use one of those tools.</td>\n      <td>cush2push</td>\n      <td>MaddenUltimateTeam</td>\n      <td>6</td>\n      <td>-1</td>\n      <td>-1</td>\n      <td>2016-12</td>\n      <td>2016-12-30 17:00:13</td>\n      <td>Yep can confirm I saw the tool they use for th...</td>\n    </tr>\n  </tbody>\n</table>\n</div>"
     },
     "execution_count": 24,
     "metadata": {},
     "output_type": "execute_result"
    }
   ],
   "source": [
    "raw_df = pd.read_csv('train-balanced-sarcasm.csv')\n",
    "raw_df.head()"
   ],
   "metadata": {
    "collapsed": false,
    "ExecuteTime": {
     "end_time": "2024-03-04T22:36:34.317197600Z",
     "start_time": "2024-03-04T22:36:30.992559400Z"
    }
   },
   "id": "24dae189076df892"
  },
  {
   "cell_type": "markdown",
   "source": [
    "# Data-preprocessing "
   ],
   "metadata": {
    "collapsed": false
   },
   "id": "c497a3e202b0d2f1"
  },
  {
   "cell_type": "markdown",
   "source": [
    "## Drop Features\n",
    "\n",
    "Irrelevant: author, date, created_utc"
   ],
   "metadata": {
    "collapsed": false
   },
   "id": "48d4d0e986e3736d"
  },
  {
   "cell_type": "code",
   "execution_count": 32,
   "outputs": [
    {
     "name": "stdout",
     "output_type": "stream",
     "text": [
      "0    500047\n",
      "1    499953\n",
      "Name: label, dtype: int64\n"
     ]
    },
    {
     "data": {
      "text/plain": "   label                                            comment        author  \\\n0      0  The title of this article should be: \"How to n...          xNOM   \n1      0  What a wasted opportunity... at least be funny...    Jacked1218   \n2      1                              But....but... sodium!        Chicup   \n3      1      Yeah, we need more animosity between nations.  Bloodysneeze   \n4      0                                              uuugh    name032282   \n\n    subreddit  score  ups  downs     date          created_utc  \\\n0  MensRights      1    1      0  2014-11  2014-11-07 11:48:34   \n1         MMA      5    5      0  2016-07  2016-07-05 22:06:19   \n2    fatlogic      1    1      0  2015-03  2015-03-09 13:16:40   \n3   worldnews      1    1      0  2013-07  2013-07-09 15:20:36   \n4   Minecraft      2    2      0  2011-04  2011-04-02 04:50:42   \n\n                                      parent_comment  \n0        You can approach women without being creepy  \n1                          Nate Diaz Snapchat Hacked  \n2  Canned soups have been hugely helpful for the ...  \n3  It really sounds like all the English speaking...  \n4  Has anyone held a doggy funeral on their serve...  ",
      "text/html": "<div>\n<style scoped>\n    .dataframe tbody tr th:only-of-type {\n        vertical-align: middle;\n    }\n\n    .dataframe tbody tr th {\n        vertical-align: top;\n    }\n\n    .dataframe thead th {\n        text-align: right;\n    }\n</style>\n<table border=\"1\" class=\"dataframe\">\n  <thead>\n    <tr style=\"text-align: right;\">\n      <th></th>\n      <th>label</th>\n      <th>comment</th>\n      <th>author</th>\n      <th>subreddit</th>\n      <th>score</th>\n      <th>ups</th>\n      <th>downs</th>\n      <th>date</th>\n      <th>created_utc</th>\n      <th>parent_comment</th>\n    </tr>\n  </thead>\n  <tbody>\n    <tr>\n      <th>0</th>\n      <td>0</td>\n      <td>The title of this article should be: \"How to n...</td>\n      <td>xNOM</td>\n      <td>MensRights</td>\n      <td>1</td>\n      <td>1</td>\n      <td>0</td>\n      <td>2014-11</td>\n      <td>2014-11-07 11:48:34</td>\n      <td>You can approach women without being creepy</td>\n    </tr>\n    <tr>\n      <th>1</th>\n      <td>0</td>\n      <td>What a wasted opportunity... at least be funny...</td>\n      <td>Jacked1218</td>\n      <td>MMA</td>\n      <td>5</td>\n      <td>5</td>\n      <td>0</td>\n      <td>2016-07</td>\n      <td>2016-07-05 22:06:19</td>\n      <td>Nate Diaz Snapchat Hacked</td>\n    </tr>\n    <tr>\n      <th>2</th>\n      <td>1</td>\n      <td>But....but... sodium!</td>\n      <td>Chicup</td>\n      <td>fatlogic</td>\n      <td>1</td>\n      <td>1</td>\n      <td>0</td>\n      <td>2015-03</td>\n      <td>2015-03-09 13:16:40</td>\n      <td>Canned soups have been hugely helpful for the ...</td>\n    </tr>\n    <tr>\n      <th>3</th>\n      <td>1</td>\n      <td>Yeah, we need more animosity between nations.</td>\n      <td>Bloodysneeze</td>\n      <td>worldnews</td>\n      <td>1</td>\n      <td>1</td>\n      <td>0</td>\n      <td>2013-07</td>\n      <td>2013-07-09 15:20:36</td>\n      <td>It really sounds like all the English speaking...</td>\n    </tr>\n    <tr>\n      <th>4</th>\n      <td>0</td>\n      <td>uuugh</td>\n      <td>name032282</td>\n      <td>Minecraft</td>\n      <td>2</td>\n      <td>2</td>\n      <td>0</td>\n      <td>2011-04</td>\n      <td>2011-04-02 04:50:42</td>\n      <td>Has anyone held a doggy funeral on their serve...</td>\n    </tr>\n  </tbody>\n</table>\n</div>"
     },
     "execution_count": 32,
     "metadata": {},
     "output_type": "execute_result"
    }
   ],
   "source": [
    "# Drop NAs\n",
    "raw_df.dropna(inplace=True)\n",
    "\n",
    "# Select 100000 rows of sample\n",
    "# Reset index so the cross validation later won't go wrong\n",
    "filter_df = raw_df.sample(n=1000000, random_state=000).reset_index(drop=True)\n",
    "\n",
    "# Drop irrelevant features\n",
    "filter_df.drop(['author'],axis=1)\n",
    "\n",
    "# Data is balance, do not need oversampling\n",
    "print(filter_df['label'].value_counts()) \n",
    "\n",
    "# Show the data\n",
    "filter_df.head()"
   ],
   "metadata": {
    "collapsed": false,
    "ExecuteTime": {
     "end_time": "2024-03-04T22:41:04.938155900Z",
     "start_time": "2024-03-04T22:41:03.734400200Z"
    }
   },
   "id": "625c11bd83cbd719"
  },
  {
   "cell_type": "markdown",
   "source": [
    "## Categorical Process"
   ],
   "metadata": {
    "collapsed": false
   },
   "id": "84b5a2a0de21ccb2"
  },
  {
   "cell_type": "markdown",
   "source": [
    "Comment Preprocess Functions"
   ],
   "metadata": {
    "collapsed": false
   },
   "id": "62bc75dd0965868d"
  },
  {
   "cell_type": "code",
   "execution_count": 39,
   "outputs": [],
   "source": [
    "\n",
    "def preprocess_text(texts):\n",
    "    \"\"\"\n",
    "    Preprocess a list of texts: lowercase, remove punctuation, and remove stopwords.\n",
    "    \"\"\"\n",
    "    # Combine all texts into one large string\n",
    "    combined_text = \" \".join(texts)\n",
    "    # Lowercase\n",
    "    combined_text = combined_text.lower()\n",
    "    # Remove punctuation\n",
    "    combined_text = re.sub(r'[^\\w\\s]', '', combined_text)\n",
    "    # Tokenize by splitting the text into words\n",
    "    words = combined_text.split()\n",
    "    # Remove stopwords\n",
    "    words = [word for word in words if word not in ENGLISH_STOP_WORDS]\n",
    "    return words\n",
    "\n",
    "lemmatizer = WordNetLemmatizer()\n",
    "\n",
    "def lemmatize_comment(comment):\n",
    "    words = nltk.word_tokenize(comment)\n",
    "    lemmatized_words = [lemmatizer.lemmatize(word) for word in words]\n",
    "    return \" \".join(lemmatized_words)\n",
    "\n",
    "\n",
    "def get_top_n_words(words, n=10):\n",
    "    \"\"\"\n",
    "    Get the top n most common words from a list of words.\n",
    "    \"\"\"\n",
    "    # Count words frequency\n",
    "    word_counts = Counter(words)\n",
    "    # Get the most common words\n",
    "    common_words = word_counts.most_common(n)\n",
    "    return common_words"
   ],
   "metadata": {
    "collapsed": false,
    "ExecuteTime": {
     "end_time": "2024-03-04T22:50:00.868500700Z",
     "start_time": "2024-03-04T22:50:00.851351600Z"
    }
   },
   "id": "dd22188382cb1306"
  },
  {
   "cell_type": "markdown",
   "source": [
    "Process comments"
   ],
   "metadata": {
    "collapsed": false
   },
   "id": "40a75c2450d6d461"
  },
  {
   "cell_type": "markdown",
   "source": [
    "Categorize Comment with date"
   ],
   "metadata": {
    "collapsed": false
   },
   "id": "691bd9713965ac55"
  },
  {
   "cell_type": "code",
   "execution_count": 40,
   "outputs": [
    {
     "data": {
      "text/plain": "year\n2009    [What an ergonomic position it generates on th...\n2010    [Tax and spend \"conservatives.\", And this is e...\n2011    [THANK YOU OBAMA, pervert, Yes, the only two o...\n2012    [Your EDC?, But war means money., thats some s...\n2013    [Yeah, we need more animosity between nations....\n2014    [I can't believe Pak would just go around and ...\n2015    [But....but... sodium!, Well that makes so muc...\n2016    [Just imagine how great it will get when Trump...\nName: comment, dtype: object"
     },
     "execution_count": 40,
     "metadata": {},
     "output_type": "execute_result"
    }
   ],
   "source": [
    "# Lemmatize Comments\n",
    "# Don't want to lemmatize this because sometimes it eliminates the word I want\n",
    "# filter_df['comments'] = filter_df['comment'].apply(lemmatize_comment)\n",
    "\n",
    "\n",
    "# Convert 'created_utc' to datetime to extract the year\n",
    "filter_df['created_utc'] = pd.to_datetime(filter_df['created_utc'])\n",
    "filter_df['year'] = filter_df['created_utc'].dt.year\n",
    "\n",
    "# Group data by year and filter out only sarcastic comments (label=1)\n",
    "sarcastic_comments_by_year = filter_df[filter_df['label'] == 1].groupby('year')['comment'].apply(list)\n",
    "\n",
    "sarcastic_comments_by_year\n"
   ],
   "metadata": {
    "collapsed": false,
    "ExecuteTime": {
     "end_time": "2024-03-04T22:50:02.808560900Z",
     "start_time": "2024-03-04T22:50:02.569196400Z"
    }
   },
   "id": "278756538aeaa9b5"
  },
  {
   "cell_type": "code",
   "execution_count": 73,
   "outputs": [
    {
     "data": {
      "text/plain": "[('yeah', 189),\n ('like', 157),\n ('just', 151),\n ('people', 150),\n ('dont', 135),\n ('yes', 120),\n ('im', 104),\n ('good', 96),\n ('know', 93),\n ('right', 93),\n ('thats', 92),\n ('sure', 83),\n ('god', 69),\n ('oh', 68),\n ('really', 68),\n ('think', 57),\n ('better', 55),\n ('way', 55),\n ('need', 54),\n ('time', 53),\n ('didnt', 53),\n ('government', 50),\n ('wow', 48),\n ('make', 48),\n ('obviously', 45),\n ('man', 43),\n ('thing', 42),\n ('want', 42),\n ('forgot', 41),\n ('going', 40),\n ('great', 40),\n ('free', 38),\n ('black', 38),\n ('reddit', 38),\n ('money', 38),\n ('youre', 38),\n ('isnt', 36),\n ('world', 35),\n ('hes', 35),\n ('did', 34),\n ('theyre', 34),\n ('stop', 33),\n ('arent', 33),\n ('thought', 32),\n ('bad', 32),\n ('mean', 32),\n ('look', 31),\n ('women', 31),\n ('clearly', 31),\n ('got', 31),\n ('totally', 31),\n ('doesnt', 30),\n ('years', 29),\n ('course', 29),\n ('hate', 28),\n ('love', 28),\n ('wrong', 28),\n ('real', 28),\n ('new', 27),\n ('hey', 27),\n ('maybe', 27),\n ('does', 27),\n ('yea', 27),\n ('work', 27),\n ('let', 27),\n ('downvote', 27),\n ('use', 26),\n ('makes', 26),\n ('doing', 26),\n ('old', 26),\n ('guy', 26),\n ('racist', 25),\n ('wait', 25),\n ('best', 25),\n ('obama', 25),\n ('probably', 25),\n ('nice', 25),\n ('thank', 24),\n ('guess', 23),\n ('guys', 22),\n ('job', 22),\n ('sounds', 22),\n ('thanks', 21),\n ('fuck', 21),\n ('believe', 21),\n ('pretty', 20),\n ('idea', 20),\n ('theres', 20),\n ('glad', 19),\n ('news', 19),\n ('america', 19),\n ('say', 19),\n ('problem', 19),\n ('shit', 19),\n ('game', 18),\n ('freedom', 18),\n ('wasnt', 18),\n ('lets', 18),\n ('seen', 18),\n ('children', 18),\n ('wouldnt', 18),\n ('life', 18),\n ('tell', 18),\n ('kind', 18),\n ('looks', 18),\n ('things', 18),\n ('white', 18),\n ('point', 18),\n ('change', 17),\n ('long', 17),\n ('knows', 17),\n ('internet', 17),\n ('support', 17),\n ('terrorists', 17),\n ('awesome', 17),\n ('kids', 17),\n ('american', 17),\n ('needs', 16),\n ('games', 16),\n ('sorry', 16),\n ('video', 16),\n ('ive', 16),\n ('evil', 16),\n ('gay', 16),\n ('terrorist', 16),\n ('country', 16),\n ('reason', 16),\n ('fucking', 16),\n ('apple', 16),\n ('cause', 16),\n ('live', 15),\n ('important', 15),\n ('ha', 15),\n ('funny', 15),\n ('dude', 15),\n ('hell', 15),\n ('actually', 15),\n ('party', 15),\n ('post', 15),\n ('place', 15),\n ('person', 15),\n ('christian', 15),\n ('damn', 15),\n ('comment', 15),\n ('cool', 14),\n ('talking', 14),\n ('big', 14),\n ('bible', 14),\n ('year', 14),\n ('men', 14),\n ('oil', 14),\n ('media', 14),\n ('sex', 14),\n ('pay', 14),\n ('completely', 14),\n ('come', 14),\n ('care', 14),\n ('ok', 14),\n ('worry', 14),\n ('getting', 14),\n ('exactly', 13),\n ('shouldnt', 13),\n ('understand', 13),\n ('shes', 13),\n ('feel', 13),\n ('stupid', 13),\n ('police', 13),\n ('possibly', 13),\n ('lot', 13),\n ('yep', 13),\n ('law', 13),\n ('read', 13),\n ('bet', 13),\n ('true', 13),\n ('republican', 13),\n ('different', 12),\n ('market', 12),\n ('used', 12),\n ('jobs', 12),\n ('wont', 12),\n ('sarcasm', 12),\n ('little', 12),\n ('means', 12),\n ('article', 12),\n ('instead', 12),\n ('muslim', 12),\n ('wonder', 12),\n ('vote', 12),\n ('making', 12),\n ('end', 12),\n ('rest', 12),\n ('israel', 12),\n ('word', 12),\n ('fun', 12),\n ('girls', 12),\n ('try', 12),\n ('buy', 12),\n ('hear', 12),\n ('ah', 11),\n ('liberal', 11),\n ('power', 11),\n ('ago', 11),\n ('countries', 11),\n ('able', 11),\n ('war', 11),\n ('poor', 11),\n ('remember', 11),\n ('lives', 11),\n ('coming', 11),\n ('works', 11),\n ('called', 11),\n ('having', 11),\n ('fake', 11),\n ('trying', 11),\n ('2', 11),\n ('saying', 11),\n ('kill', 11),\n ('blame', 11),\n ('amazing', 11),\n ('watch', 11),\n ('cops', 11),\n ('gonna', 11),\n ('sense', 10),\n ('school', 10),\n ('happen', 10),\n ('sound', 10),\n ('definitely', 10),\n ('speech', 10),\n ('day', 10),\n ('rich', 10),\n ('happens', 10),\n ('fat', 10),\n ('build', 10),\n ('help', 10),\n ('health', 10),\n ('security', 10),\n ('super', 10),\n ('brown', 10),\n ('meant', 10),\n ('water', 10),\n ('jews', 10),\n ('death', 9),\n ('windows', 9),\n ('answer', 9),\n ('information', 9),\n ('created', 9),\n ('bit', 9),\n ('problems', 9),\n ('sell', 9),\n ('car', 9),\n ('surprise', 9),\n ('baby', 9),\n ('google', 9),\n ('lol', 9),\n ('heard', 9),\n ('house', 9),\n ('single', 9),\n ('child', 9),\n ('cut', 9),\n ('looking', 9),\n ('thinking', 9),\n ('muslims', 9),\n ('public', 9),\n ('said', 9),\n ('high', 9),\n ('start', 9),\n ('yay', 9),\n ('science', 9),\n ('added', 9),\n ('ask', 9),\n ('yah', 9),\n ('taking', 9),\n ('havent', 9),\n ('obvious', 9),\n ('opinion', 9),\n ('woman', 9),\n ('theyll', 9),\n ('stuff', 8),\n ('times', 8),\n ('society', 8),\n ('republicans', 8),\n ('gun', 8),\n ('far', 8),\n ('girl', 8),\n ('global', 8),\n ('movie', 8),\n ('rape', 8),\n ('fair', 8),\n ('win', 8),\n ('sort', 8),\n ('simply', 8),\n ('fault', 8),\n ('racism', 8),\n ('needed', 8),\n ('days', 8),\n ('says', 8),\n ('argument', 8),\n ('okay', 8),\n ('ill', 8),\n ('add', 8),\n ('omg', 8),\n ('illegal', 8),\n ('nah', 8),\n ('running', 8),\n ('1', 8),\n ('certainly', 8),\n ('bunch', 8),\n ('play', 8),\n ('rights', 8),\n ('hard', 8),\n ('bullshit', 8),\n ('modern', 8),\n ('paul', 8),\n ('ways', 8),\n ('religion', 8),\n ('spending', 8),\n ('tax', 7),\n ('communist', 7),\n ('facebook', 7),\n ('unless', 7),\n ('response', 7),\n ('known', 7),\n ('hope', 7),\n ('small', 7),\n ('wearing', 7),\n ('tag', 7),\n ('dog', 7),\n ('run', 7),\n ('warming', 7),\n ('liked', 7),\n ('id', 7),\n ('youve', 7),\n ('company', 7),\n ('break', 7),\n ('drill', 7),\n ('asshole', 7),\n ('proof', 7),\n ('open', 7),\n ('office', 7),\n ('safe', 7),\n ('crazy', 7),\n ('missed', 7),\n ('church', 7),\n ('impossible', 7),\n ('til', 7),\n ('gotta', 7),\n ('number', 7),\n ('friends', 7),\n ('laws', 7),\n ('agree', 7),\n ('act', 7),\n ('tea', 7),\n ('anymore', 7),\n ('family', 7),\n ('surely', 7),\n ('ones', 7),\n ('talk', 7),\n ('defense', 7),\n ('honest', 7),\n ('proves', 7),\n ('movies', 7),\n ('truth', 7),\n ('seriously', 7),\n ('service', 7),\n ('easy', 7),\n ('criminals', 7),\n ('dirty', 7),\n ('religious', 7),\n ('record', 7),\n ('politics', 7),\n ('democrats', 7),\n ('sky', 7),\n ('catholic', 7),\n ('chinese', 7),\n ('joke', 7),\n ('gods', 7),\n ('10', 7),\n ('demand', 7),\n ('living', 6),\n ('stand', 6),\n ('whats', 6),\n ('lazy', 6),\n ('members', 6),\n ('dumb', 6),\n ('haha', 6),\n ('fast', 6),\n ('rational', 6),\n ('line', 6),\n ('playing', 6),\n ('healthy', 6),\n ('ban', 6),\n ('worth', 6),\n ('stopped', 6),\n ('surprised', 6),\n ('human', 6),\n ('killing', 6),\n ('software', 6),\n ('perfectly', 6),\n ('ya', 6),\n ('economic', 6),\n ('hilarious', 6),\n ('longer', 6),\n ('suck', 6),\n ('democracy', 6),\n ('happy', 6),\n ('available', 6),\n ('evidence', 6),\n ('worked', 6),\n ('attack', 6),\n ('space', 6),\n ('industry', 6),\n ('president', 6),\n ('text', 6),\n ('save', 6),\n ('finally', 6),\n ('legal', 6),\n ('past', 6),\n ('female', 6),\n ('socialism', 6),\n ('hand', 6),\n ('taxes', 6),\n ('education', 6),\n ('wanted', 6),\n ('americans', 6),\n ('forget', 6),\n ('nope', 6),\n ('city', 6),\n ('voting', 6),\n ('won', 6),\n ('complete', 6),\n ('absolutely', 6),\n ('users', 6),\n ('perfect', 6),\n ('form', 6),\n ('matter', 6),\n ('supposed', 6),\n ('dead', 6),\n ('prove', 6),\n ('fox', 6),\n ('ignore', 6),\n ('20', 6),\n ('today', 6),\n ('away', 6),\n ('duh', 6),\n ('gee', 6),\n ('control', 6),\n ('loving', 6),\n ('exist', 6),\n ('state', 6),\n ('gets', 6),\n ('hours', 6),\n ('product', 6),\n ('group', 6),\n ('pictures', 6),\n ('interesting', 6),\n ('head', 6),\n ('home', 6),\n ('marriage', 6),\n ('huge', 6),\n ('constantly', 6),\n ('piece', 6),\n ('fact', 6),\n ('jesus', 6),\n ('eat', 6),\n ('ass', 6),\n ('immediately', 6),\n ('ron', 6),\n ('breaking', 6),\n ('parents', 6),\n ('source', 6),\n ('rapist', 6),\n ('story', 6),\n ('lower', 6),\n ('giving', 6),\n ('companies', 6),\n ('stars', 6),\n ('dare', 6),\n ('rand', 6),\n ('drug', 6),\n ('turn', 6),\n ('solve', 6),\n ('blood', 6),\n ('count', 6),\n ('straight', 5),\n ('theyve', 5),\n ('capitalism', 5),\n ('socialist', 5),\n ('idiot', 5),\n ('context', 5),\n ('fly', 5),\n ('useful', 5),\n ('takes', 5),\n ('waiting', 5),\n ('cost', 5),\n ('class', 5),\n ('hide', 5),\n ('business', 5),\n ('economy', 5),\n ('violence', 5),\n ('explain', 5),\n ('hating', 5),\n ('fixed', 5),\n ('browser', 5),\n ('peoples', 5),\n ('air', 5),\n ('common', 5),\n ('cia', 5),\n ('100', 5),\n ('conspiracy', 5),\n ('o', 5),\n ('welfare', 5),\n ('born', 5),\n ('face', 5),\n ('enjoy', 5),\n ('debt', 5),\n ('peace', 5),\n ('shame', 5),\n ('population', 5),\n ('issues', 5),\n ('terrible', 5),\n ('saw', 5),\n ('voted', 5),\n ('hold', 5),\n ('national', 5),\n ('professional', 5),\n ('social', 5),\n ('extra', 5),\n ('atheist', 5),\n ('email', 5),\n ('comes', 5),\n ('shown', 5),\n ('personally', 5),\n ('yup', 5),\n ('follow', 5),\n ('rules', 5),\n ('continue', 5),\n ('hates', 5),\n ('states', 5),\n ('given', 5),\n ('shocked', 5),\n ('especially', 5),\n ('twice', 5),\n ('friend', 5),\n ('reasonable', 5),\n ('expect', 5),\n ('camera', 5),\n ('computer', 5),\n ('excellent', 5),\n ('level', 5),\n ('military', 5),\n ('sold', 5),\n ('planet', 5),\n ('protect', 5),\n ('effective', 5),\n ('low', 5),\n ('gone', 5),\n ('civil', 5),\n ('left', 5),\n ('glenn', 5),\n ('beck', 5),\n ('kid', 5),\n ('comments', 5),\n ('question', 5),\n ('bitch', 5),\n ('30', 5),\n ('wonders', 5),\n ('close', 5),\n ('private', 5),\n ('ability', 5),\n ('tsa', 5),\n ('expensive', 5),\n ('app', 5),\n ('political', 5),\n ('theory', 5),\n ('guns', 5),\n ('earth', 5),\n ('california', 5),\n ('weve', 5),\n ('questions', 5),\n ('bought', 5),\n ('crap', 5),\n ('situation', 5),\n ('finding', 5),\n ('east', 5),\n ('proud', 5),\n ('911', 5),\n ('steam', 5),\n ('boys', 5),\n ('burn', 5),\n ('english', 5),\n ('rude', 5),\n ('future', 5),\n ('referring', 5),\n ('night', 5),\n ('shoot', 5),\n ('walk', 5),\n ('equal', 5),\n ('israelis', 5),\n ('mass', 5),\n ('putting', 5),\n ('bp', 5),\n ('site', 5),\n ('biased', 5),\n ('silly', 5),\n ('bush', 5),\n ('palestinians', 5),\n ('imagine', 5),\n ('green', 5),\n ('type', 5),\n ('sign', 5),\n ('shows', 5),\n ('attention', 5),\n ('murder', 5),\n ('bro', 5),\n ('taken', 5),\n ('million', 5),\n ('using', 5),\n ('turned', 5),\n ('spend', 4),\n ('pfft', 4),\n ('groups', 4),\n ('changed', 4),\n ('notice', 4),\n ('steve', 4),\n ('list', 4),\n ('teachers', 4),\n ('dress', 4),\n ('heads', 4),\n ('likes', 4),\n ('outside', 4),\n ('solution', 4),\n ('gave', 4),\n ('amp', 4),\n ('slow', 4),\n ('truly', 4),\n ('steal', 4),\n ('caught', 4),\n ('al', 4),\n ('shot', 4),\n ('politicians', 4),\n ('insurance', 4),\n ('animal', 4),\n ('abuse', 4),\n ('youtube', 4),\n ('music', 4),\n ('written', 4),\n ('mistake', 4),\n ('australia', 4),\n ('south', 4),\n ('helping', 4),\n ('harder', 4),\n ('profits', 4),\n ('calling', 4),\n ('uh', 4),\n ('ruin', 4),\n ('gop', 4),\n ('fda', 4),\n ('father', 4),\n ('unit', 4),\n ('6000', 4),\n ('major', 4),\n ('original', 4),\n ('clever', 4),\n ('rock', 4),\n ('thread', 4),\n ('advice', 4),\n ('afford', 4),\n ('americas', 4),\n ('later', 4),\n ('dollars', 4),\n ('businesses', 4),\n ('fix', 4),\n ('trading', 4),\n ('involvement', 4),\n ('took', 4),\n ('realize', 4),\n ('fine', 4),\n ('buff', 4),\n ('youll', 4),\n ('democratic', 4),\n ('l', 4),\n ('economics', 4),\n ('govt', 4),\n ('brilliant', 4),\n ('holding', 4),\n ('sin', 4),\n ('2012', 4),\n ('development', 4),\n ('religions', 4),\n ('helped', 4),\n ('united', 4),\n ('prevent', 4),\n ('code', 4),\n ('ridiculous', 4),\n ('seeing', 4),\n ('west', 4),\n ('reduce', 4),\n ('standards', 4),\n ('horrible', 4),\n ('throw', 4),\n ('clean', 4),\n ('produced', 4),\n ('everybody', 4),\n ('birth', 4),\n ('lies', 4),\n ('liberals', 4),\n ('prefer', 4),\n ('creation', 4),\n ('atheists', 4),\n ('arrows', 4),\n ('supply', 4),\n ('teach', 4),\n ('throwing', 4),\n ('brain', 4),\n ('weapons', 4),\n ('aint', 4),\n ('action', 4),\n ('constitution', 4),\n ('stay', 4),\n ('ftw', 4),\n ('bastards', 4),\n ('copy', 4),\n ('plenty', 4),\n ('polite', 4),\n ('north', 4),\n ('birthday', 4),\n ('quite', 4),\n ('crash', 4),\n ('require', 4),\n ('negative', 4),\n ('asking', 4),\n ('sexual', 4),\n ('experience', 4),\n ('values', 4),\n ('whoa', 4),\n ('microsoft', 4),\n ('medical', 4),\n ('intelligent', 4),\n ('posts', 4),\n ('china', 4),\n ('cares', 4),\n ('giant', 4),\n ('months', 4),\n ('ignorant', 4),\n ('involved', 4),\n ('random', 4),\n ('commie', 4),\n ('views', 4),\n ('japanese', 4),\n ('dangerous', 4),\n ('gender', 4),\n ('page', 4),\n ('paper', 4),\n ('15', 4),\n ('election', 4),\n ('socialists', 4),\n ('bring', 4),\n ('correct', 4),\n ('moment', 4),\n ('quit', 4),\n ('goes', 4),\n ('digg', 4),\n ('content', 4),\n ('phone', 4),\n ('lady', 4),\n ('age', 4),\n ('smart', 4),\n ('research', 4),\n ('secret', 4),\n ('version', 4),\n ('folks', 4),\n ('effect', 4),\n ('apples', 4),\n ('statement', 4),\n ('assume', 4),\n ('bother', 4),\n ('40', 4),\n ('smoke', 4),\n ('supports', 4),\n ('cheap', 4),\n ('solved', 4),\n ('dick', 4),\n ('wants', 4),\n ('bang', 4),\n ('based', 4),\n ('language', 4),\n ('speak', 4),\n ('watching', 4),\n ('respect', 4),\n ('programming', 4),\n ('drive', 4),\n ('linux', 4),\n ('wonderful', 4),\n ('total', 4),\n ('pussy', 4),\n ('dropped', 4),\n ('3', 4),\n ('mainstream', 4),\n ('communists', 4),\n ('mysterious', 4),\n ('iran', 4),\n ('voters', 4),\n ('plan', 4),\n ('worse', 4),\n ('changing', 4),\n ('soul', 4),\n ('provide', 4),\n ('balanced', 4),\n ('pot', 4),\n ('second', 4),\n ('thatll', 4),\n ('hit', 4),\n ('saydrah', 4),\n ('mad', 4),\n ('pages', 4),\n ('agenda', 4),\n ('acting', 4),\n ('george', 4),\n ('governments', 4),\n ('christians', 4),\n ('deal', 4),\n ('invented', 4),\n ('happened', 4),\n ('hadnt', 4),\n ('paying', 4),\n ('administration', 4),\n ('7', 4),\n ('m', 4),\n ('claim', 4),\n ('wed', 4),\n ('lead', 4),\n ('paid', 4),\n ('died', 4),\n ('abortions', 4),\n ('middle', 4),\n ('b', 4),\n ('account', 4),\n ('50', 4),\n ('hang', 4),\n ('trickle', 4),\n ('ground', 4),\n ('working', 4),\n ('half', 4),\n ('plus', 4),\n ('allies', 3),\n ('fascist', 3),\n ('werent', 3),\n ('dancing', 3),\n ('corner', 3),\n ('surprising', 3),\n ('antisemitism', 3),\n ('decent', 3),\n ('morality', 3),\n ('sucked', 3),\n ('believing', 3),\n ('shops', 3),\n ('allowed', 3),\n ('alive', 3),\n ('karma', 3),\n ('points', 3),\n ('fighting', 3),\n ('install', 3),\n ('box', 3),\n ('carried', 3),\n ('ads', 3),\n ('started', 3),\n ('cancer', 3),\n ('helpful', 3),\n ('slave', 3),\n ('met', 3),\n ('tv', 3),\n ('priests', 3),\n ('hero', 3),\n ('russia', 3),\n ('miss', 3),\n ('elected', 3),\n ('heart', 3),\n ('prison', 3),\n ('usa', 3),\n ('sir', 3),\n ('anybody', 3),\n ('gas', 3),\n ('screw', 3),\n ('secure', 3),\n ('die', 3),\n ('eyes', 3),\n ('determine', 3),\n ('dressed', 3),\n ('wins', 3),\n ('regulations', 3),\n ('possible', 3),\n ('millions', 3),\n ('suggest', 3),\n ('male', 3),\n ('doctors', 3),\n ('chain', 3),\n ('mail', 3),\n ('daily', 3),\n ('deaf', 3),\n ('creative', 3),\n ('reality', 3),\n ('mother', 3),\n ('slap', 3),\n ('self', 3),\n ('regulation', 3),\n ('federal', 3),\n ('positive', 3),\n ('test', 3),\n ('trust', 3),\n ('screwing', 3),\n ('autism', 3),\n ('choice', 3),\n ('medicare', 3),\n ('coincidence', 3),\n ('stands', 3),\n ('s', 3),\n ('sick', 3),\n ('html5', 3),\n ('humans', 3),\n ('color', 3),\n ('earned', 3),\n ('shut', 3),\n ('hospital', 3),\n ('york', 3),\n ('ocean', 3),\n ('advantage', 3),\n ('moral', 3),\n ('sinner', 3),\n ('environment', 3),\n ('sarah', 3),\n ('palin', 3),\n ('excuse', 3),\n ('freedoms', 3),\n ('animals', 3),\n ('issue', 3),\n ('street', 3),\n ('allow', 3),\n ('body', 3),\n ('loves', 3),\n ('plants', 3),\n ('dry', 3),\n ('overrated', 3),\n ('keeping', 3),\n ('wing', 3),\n ('motivated', 3),\n ('driving', 3),\n ('affairs', 3),\n ('picture', 3),\n ('lines', 3),\n ('drilling', 3),\n ('13', 3),\n ('feed', 3),\n ('wrote', 3),\n ('happening', 3),\n ('tits', 3),\n ('humane', 3),\n ('position', 3),\n ('sector', 3),\n ('scary', 3),\n ('safer', 3),\n ('damned', 3),\n ('elses', 3),\n ('computers', 3),\n ('terrorism', 3),\n ('food', 3),\n ('decide', 3),\n ('accurate', 3),\n ('nature', 3),\n ('lame', 3),\n ('hahaha', 3),\n ('shouldve', 3),\n ('image', 3),\n ('criminal', 3),\n ('rocket', 3),\n ('enemies', 3),\n ('remove', 3),\n ('graphics', 3),\n ('civilians', 3),\n ('harm', 3),\n ('nazi', 3),\n ('sad', 3),\n ('rate', 3),\n ('deserve', 3),\n ('micro', 3),\n ('pirate', 3),\n ('easily', 3),\n ('knowing', 3),\n ('recently', 3),\n ('heaven', 3),\n ('snow', 3),\n ('domestic', 3),\n ('stopping', 3),\n ('darwin', 3),\n ('practice', 3),\n ('employees', 3),\n ('weak', 3),\n ('aware', 3),\n ('sales', 3),\n ('abortion', 3),\n ('raped', 3),\n ...]"
     },
     "execution_count": 73,
     "metadata": {},
     "output_type": "execute_result"
    }
   ],
   "source": [
    "words_2015 = preprocess_text(sarcastic_comments_by_year[2010])\n",
    "top_words_2015 = get_top_n_words(words_2015, 5000)\n",
    "\n",
    "words_to_extract_2009 = ['obama', 'man', 'white']\n",
    "\n",
    "words_to_extract_2015 = ['gun', 'war', 'die', 'terrible', 'safe', 'shoot', 'terrorists', 'isis']\n",
    "\n",
    "words_to_extract_2016 = ['trump','women','black','vote', 'win', 'government', 'president', 'clinton', 'racism','muslims','republicans','taxes']\n",
    "extracted_data_2015 = [item for item in top_words_2015 if item[0] in words_to_extract_2015]\n",
    "\n",
    "top_words_2015"
   ],
   "metadata": {
    "collapsed": false,
    "ExecuteTime": {
     "end_time": "2024-03-05T01:49:42.202898800Z",
     "start_time": "2024-03-05T01:49:42.113180300Z"
    }
   },
   "id": "633dcc4705ef0397"
  },
  {
   "cell_type": "markdown",
   "source": [
    "visualization"
   ],
   "metadata": {
    "collapsed": false
   },
   "id": "f1e2bcd9f9bd930f"
  },
  {
   "cell_type": "code",
   "execution_count": 64,
   "outputs": [
    {
     "data": {
      "text/plain": "<Figure size 1000x800 with 1 Axes>",
      "image/png": "[encoded data removed]"
     },
     "metadata": {},
     "output_type": "display_data"
    }
   ],
   "source": [
    "# Convert to DataFrame for easier plotting\n",
    "df = pd.DataFrame(extracted_data_2016, columns=['Word', 'Count'])\n",
    "\n",
    "# Plotting\n",
    "plt.figure(figsize=(10, 8))\n",
    "plt.barh(df['Word'], df['Count'], color='skyblue')\n",
    "plt.xlabel('Count')\n",
    "plt.title('Top Words in Sarcastic Comments 2016')\n",
    "plt.gca().invert_yaxis()  # Invert y-axis to have the highest count at the top\n",
    "plt.show()"
   ],
   "metadata": {
    "collapsed": false,
    "ExecuteTime": {
     "end_time": "2024-03-04T23:25:45.853664500Z",
     "start_time": "2024-03-04T23:25:45.713443600Z"
    }
   },
   "id": "4f2e03b64b8da377"
  }
 ],
 "metadata": {
  "kernelspec": {
   "display_name": "Python 3",
   "language": "python",
   "name": "python3"
  },
  "language_info": {
   "codemirror_mode": {
    "name": "ipython",
    "version": 2
   },
   "file_extension": ".py",
   "mimetype": "text/x-python",
   "name": "python",
   "nbconvert_exporter": "python",
   "pygments_lexer": "ipython2",
   "version": "2.7.6"
  }
 },
 "nbformat": 4,
 "nbformat_minor": 5
}
