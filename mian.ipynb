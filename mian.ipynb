version https://git-lfs.github.com/spec/v1
oid sha256:604bbc01e249f21c02b367d7dfbdad87e452bf83234e17f854e0672241bd52ca
size 1116497
